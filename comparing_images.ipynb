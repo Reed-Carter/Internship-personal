{
 "cells": [
  {
   "cell_type": "code",
   "execution_count": 3,
   "metadata": {},
   "outputs": [
    {
     "name": "stdout",
     "output_type": "stream",
     "text": [
      "MSE: 0.00023658293232054598\n",
      "RMSE: 0.015381252625210536\n",
      "SSIM: 0.9857939398187032\n"
     ]
    }
   ],
   "source": [
    "from skimage.metrics import mean_squared_error, structural_similarity\n",
    "from skimage import io, color\n",
    "\n",
    "def image_similarity(image1_path, image2_path):\n",
    "    image1 = io.imread(image1_path)\n",
    "    image2 = io.imread(image2_path)\n",
    "\n",
    "    # Ensure both images have the same dimensions and color channels\n",
    "    image1 = color.rgb2gray(image1)\n",
    "    image2 = color.rgb2gray(image2)\n",
    "\n",
    "    # Calculate MSE and RMSE\n",
    "    mse = mean_squared_error(image1, image2)\n",
    "    rmse = mse ** 0.5\n",
    "\n",
    "    # Calculate SSIM\n",
    "    ssim = structural_similarity(image1, image2)\n",
    "\n",
    "    return mse, rmse, ssim\n",
    "\n",
    "# Example usage\n",
    "image1_path = \"photos/from_facebook.jpg\"\n",
    "image2_path = \"photos/from_gmail.jpg\"\n",
    "mse, rmse, ssim = image_similarity(image1_path, image2_path)\n",
    "print(\"MSE:\", mse)\n",
    "print(\"RMSE:\", rmse)\n",
    "print(\"SSIM:\", ssim)"
   ]
  },
  {
   "cell_type": "code",
   "execution_count": 6,
   "metadata": {},
   "outputs": [
    {
     "name": "stdout",
     "output_type": "stream",
     "text": [
      "1/1 [==============================] - 1s 820ms/step\n",
      "1/1 [==============================] - 0s 124ms/step\n",
      "Similarity Score: 0.7099204\n"
     ]
    }
   ],
   "source": [
    "import numpy as np\n",
    "import tensorflow as tf\n",
    "from tensorflow import keras\n",
    "from tensorflow.keras import layers\n",
    "from tensorflow.keras.models import Model\n",
    "\n",
    "# Define the Siamese Network architecture\n",
    "def create_siamese_network(input_shape):\n",
    "    input_image = layers.Input(shape=input_shape)\n",
    "    base_model = keras.applications.ResNet50(weights='imagenet', include_top=False, input_tensor=input_image)\n",
    "\n",
    "    # Flatten the output from the base model\n",
    "    flatten_layer = layers.Flatten()(base_model.output)\n",
    "\n",
    "    # Fully connected layers for feature embedding\n",
    "    fc1 = layers.Dense(512, activation='relu')(flatten_layer)\n",
    "    fc2 = layers.Dense(512, activation='relu')(fc1)\n",
    "\n",
    "    # Final embedding output\n",
    "    embedding = layers.Dense(256)(fc2)\n",
    "\n",
    "    # Create the siamese model\n",
    "    siamese_model = Model(inputs=input_image, outputs=embedding)\n",
    "    return siamese_model\n",
    "\n",
    "# Function to calculate similarity between two embeddings\n",
    "def similarity_metric(embedding1, embedding2):\n",
    "    # Flatten the arrays to 1D\n",
    "    embedding1 = np.squeeze(embedding1)\n",
    "    embedding2 = np.squeeze(embedding2)\n",
    "\n",
    "    # Calculate dot product\n",
    "    dot_product = np.dot(embedding1, embedding2)\n",
    "\n",
    "    # Calculate the norms of the arrays\n",
    "    norm_embedding1 = np.linalg.norm(embedding1)\n",
    "    norm_embedding2 = np.linalg.norm(embedding2)\n",
    "\n",
    "    # Calculate the similarity score\n",
    "    similarity_score = dot_product / (norm_embedding1 * norm_embedding2)\n",
    "\n",
    "    return similarity_score\n",
    "\n",
    "# Load images from paths\n",
    "def load_image(image_path):\n",
    "    image = keras.preprocessing.image.load_img(image_path, target_size=(224, 224))\n",
    "    image = keras.preprocessing.image.img_to_array(image)\n",
    "    image = np.expand_dims(image, axis=0)\n",
    "    return image\n",
    "\n",
    "# Load images from paths\n",
    "image1_path = \"photos/onedrive_unedited.jpg\"\n",
    "image2_path = \"photos/edited.png\"\n",
    "\n",
    "image1 = load_image(image1_path)\n",
    "image2 = load_image(image2_path)\n",
    "\n",
    "# Create the Siamese Network\n",
    "input_shape = (224, 224, 3)\n",
    "siamese_model = create_siamese_network(input_shape)\n",
    "\n",
    "# # Load pre-trained weights (optional)\n",
    "# siamese_model.load_weights(\"path/to/pretrained_weights.h5\")\n",
    "\n",
    "# Get the embeddings for the two images\n",
    "embedding1 = siamese_model.predict(image1)\n",
    "embedding2 = siamese_model.predict(image2)\n",
    "\n",
    "# Calculate similarity metric\n",
    "similarity_score = similarity_metric(embedding1, embedding2)\n",
    "\n",
    "print(\"Similarity Score:\", similarity_score)\n",
    "\n"
   ]
  }
 ],
 "metadata": {
  "kernelspec": {
   "display_name": "internshipvenv",
   "language": "python",
   "name": "python3"
  },
  "language_info": {
   "codemirror_mode": {
    "name": "ipython",
    "version": 3
   },
   "file_extension": ".py",
   "mimetype": "text/x-python",
   "name": "python",
   "nbconvert_exporter": "python",
   "pygments_lexer": "ipython3",
   "version": "3.7.17"
  },
  "orig_nbformat": 4
 },
 "nbformat": 4,
 "nbformat_minor": 2
}
